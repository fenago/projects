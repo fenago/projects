{
  "nbformat": 4,
  "nbformat_minor": 0,
  "metadata": {
    "colab": {
      "provenance": []
    },
    "kernelspec": {
      "name": "python3",
      "display_name": "Python 3"
    },
    "language_info": {
      "name": "python"
    }
  },
  "cells": [
    {
      "cell_type": "code",
      "execution_count": 4,
      "metadata": {
        "colab": {
          "base_uri": "https://localhost:8080/"
        },
        "id": "BxLNTzzmoTWr",
        "outputId": "4c421270-7067-4d20-96f5-66578d814c04"
      },
      "outputs": [
        {
          "output_type": "stream",
          "name": "stdout",
          "text": [
            "Looking in indexes: https://pypi.org/simple, https://us-python.pkg.dev/colab-wheels/public/simple/\n",
            "Collecting git+https://github.com/openai/whisper.git\n",
            "  Cloning https://github.com/openai/whisper.git to /tmp/pip-req-build-tlpz2f37\n",
            "  Running command git clone -q https://github.com/openai/whisper.git /tmp/pip-req-build-tlpz2f37\n",
            "Requirement already satisfied: numpy in /usr/local/lib/python3.7/dist-packages (from whisper==1.0) (1.21.6)\n",
            "Requirement already satisfied: torch in /usr/local/lib/python3.7/dist-packages (from whisper==1.0) (1.12.1+cu113)\n",
            "Requirement already satisfied: tqdm in /usr/local/lib/python3.7/dist-packages (from whisper==1.0) (4.64.1)\n",
            "Requirement already satisfied: more-itertools in /usr/local/lib/python3.7/dist-packages (from whisper==1.0) (9.0.0)\n",
            "Requirement already satisfied: transformers>=4.19.0 in /usr/local/lib/python3.7/dist-packages (from whisper==1.0) (4.24.0)\n",
            "Requirement already satisfied: ffmpeg-python==0.2.0 in /usr/local/lib/python3.7/dist-packages (from whisper==1.0) (0.2.0)\n",
            "Requirement already satisfied: future in /usr/local/lib/python3.7/dist-packages (from ffmpeg-python==0.2.0->whisper==1.0) (0.16.0)\n",
            "Requirement already satisfied: importlib-metadata in /usr/local/lib/python3.7/dist-packages (from transformers>=4.19.0->whisper==1.0) (4.13.0)\n",
            "Requirement already satisfied: pyyaml>=5.1 in /usr/local/lib/python3.7/dist-packages (from transformers>=4.19.0->whisper==1.0) (6.0)\n",
            "Requirement already satisfied: filelock in /usr/local/lib/python3.7/dist-packages (from transformers>=4.19.0->whisper==1.0) (3.8.0)\n",
            "Requirement already satisfied: packaging>=20.0 in /usr/local/lib/python3.7/dist-packages (from transformers>=4.19.0->whisper==1.0) (21.3)\n",
            "Requirement already satisfied: requests in /usr/local/lib/python3.7/dist-packages (from transformers>=4.19.0->whisper==1.0) (2.23.0)\n",
            "Requirement already satisfied: tokenizers!=0.11.3,<0.14,>=0.11.1 in /usr/local/lib/python3.7/dist-packages (from transformers>=4.19.0->whisper==1.0) (0.13.2)\n",
            "Requirement already satisfied: regex!=2019.12.17 in /usr/local/lib/python3.7/dist-packages (from transformers>=4.19.0->whisper==1.0) (2022.6.2)\n",
            "Requirement already satisfied: huggingface-hub<1.0,>=0.10.0 in /usr/local/lib/python3.7/dist-packages (from transformers>=4.19.0->whisper==1.0) (0.10.1)\n",
            "Requirement already satisfied: typing-extensions>=3.7.4.3 in /usr/local/lib/python3.7/dist-packages (from huggingface-hub<1.0,>=0.10.0->transformers>=4.19.0->whisper==1.0) (4.1.1)\n",
            "Requirement already satisfied: pyparsing!=3.0.5,>=2.0.2 in /usr/local/lib/python3.7/dist-packages (from packaging>=20.0->transformers>=4.19.0->whisper==1.0) (3.0.9)\n",
            "Requirement already satisfied: zipp>=0.5 in /usr/local/lib/python3.7/dist-packages (from importlib-metadata->transformers>=4.19.0->whisper==1.0) (3.10.0)\n",
            "Requirement already satisfied: certifi>=2017.4.17 in /usr/local/lib/python3.7/dist-packages (from requests->transformers>=4.19.0->whisper==1.0) (2022.9.24)\n",
            "Requirement already satisfied: urllib3!=1.25.0,!=1.25.1,<1.26,>=1.21.1 in /usr/local/lib/python3.7/dist-packages (from requests->transformers>=4.19.0->whisper==1.0) (1.24.3)\n",
            "Requirement already satisfied: chardet<4,>=3.0.2 in /usr/local/lib/python3.7/dist-packages (from requests->transformers>=4.19.0->whisper==1.0) (3.0.4)\n",
            "Requirement already satisfied: idna<3,>=2.5 in /usr/local/lib/python3.7/dist-packages (from requests->transformers>=4.19.0->whisper==1.0) (2.10)\n",
            "Looking in indexes: https://pypi.org/simple, https://us-python.pkg.dev/colab-wheels/public/simple/\n",
            "Requirement already satisfied: pytube in /usr/local/lib/python3.7/dist-packages (12.1.0)\n"
          ]
        },
        {
          "output_type": "stream",
          "name": "stderr",
          "text": [
            "/usr/local/lib/python3.7/dist-packages/whisper/transcribe.py:78: UserWarning: FP16 is not supported on CPU; using FP32 instead\n",
            "  warnings.warn(\"FP16 is not supported on CPU; using FP32 instead\")\n"
          ]
        },
        {
          "output_type": "stream",
          "name": "stdout",
          "text": [
            " The Essence of Happiness by Ernesto Lee Chapter 2 The Ephemeral Nature of Time Your fears are directly related to your attachments. As we endlessly pursue our different ambitions in life, we believe it is our sole responsibility to chase our dreams and achieve success. It is important to note that we are equally responsible for the unhappiness or suffering we may feel thereafter, even after putting in a lot of hard work. Even your dreams themselves are an attachment to the way you would like to see the world. This means that it is not you in control of your dreams, but your dreams in control of you. This is born in the truth of the unhealthy attachments. We take along with us in our journey through life the ceaseless cravings for material goods, our limited understanding of things, and an uncontrollable cataclysmic urge for ephemeral things. Ignorance is a major cause of suffering and unhappiness. To be truly ignorant means you are only seeing the shadow of what the world really is. T.S. Eliot once said that between conception and reality lies a shadow, and most humans live in the shadow. Being unenlightened is synonymous to being illiterate or uneducated. Here the human mind is left inactive or stagnant, and lacks the comprehensive ability to fully understand the way things truly are. Ignorance and enlightenment can never occupy the same space in the mind. Diverse kinds of vices are birthed from the unenlightened mind, such as envy, hatred, anger, and greed, to mention just a few. The cause of suffering is desire and ignorance. Most of the things we crave are a function of who we are and where we are in life. Simply put, craving is the strong desire in humans to please their selves and to experience life wholly. Whatever triggers self will consequently bring about craving in us. Even the desire to please others is a selfish act, because the rewards of satisfying others satisfies the self. None of the wants and pleasures we crave totally give us happiness that lasts, or as much satisfaction as we imagine permanently. Hence it becomes a vicious, recurrent cycle, and we are bound to attempt to repeat these experiences over and over. Through all of this hamster wheeling, we remain unhappy and unsatisfied simply because we cannot derive happiness from mere cravings of self. Change is inevitable. We suffer when we do not accept the inevitability of change and attempt to hold on to things as they were, or as we wish them to be, instead of as they are. Psychologists define cognitive dissonance as the mental condition in which a person holds two or more contradictory beliefs, ideas, or values simultaneously. Asip talked about a fox who really wanted to eat grapes that were growing high on a hill. Although the fox really wanted the grapes, he convinced himself that the grapes were sour. That is what we do with happiness. We wake up every morning and work toward a goal, with the expectation that the achievement of that goal will result in happiness. You live in the present, but your happiness always lives in the future. It is always just out of reach. Even when your goal is achieved, the happiness is fleeting. The idea that happiness is always a destination in the future is the greatest lie ever told. We believe this is because of cognitive dissonance. This key insight is required to be understood before happiness can be attained permanently. The most important insight is that at birth, your mind was not a blank state. Rene Descartes believed that at birth your mind was tabula eresa, a blank slate, and as you moved through life it was filled with experiences. This is wrong. Your mind is the current product of millions of years of psychological evolution, and it continues to evolve. The mind is pre-wired to understand the data that interests it, and then it processes that data. These are your experiences. Everyone is aware that your external experiences enter the domain of mind through the senses, but most are not aware of how the mind processes those experiences. The five senses – sight, sound, smell, touch, and taste – all collect data from the outside world and pass that raw data into the mind. The mind has pre-wired mental modules that process and make sense of the data provided by the senses. Some of these built-in mental modules include space, time, breathing, blinking, language, cause and effect, number. These are all things that your brain was pre-wired to understand without you ever needing an experience. Ask yourself why you cannot explain the concept of time, although you feel as if you understand it completely. It's because the concept of time is pre-wired into your brain and that concept did not arise from an experience given you by the senses. Think of these built-in mental modules like this. How can you use your eyeball to directly see your own eyeball? Can a ruler measure itself? Does a clock measure time or does it measure itself? In summary, how do you measure the tools that are used to measure? The built-in mental modules are tools used to measure. The key insight is that desire is a pre-built mental module that you were born with. It's an essential part of the human experience. To achieve happiness, you must win the battle of yourself. The mental module of desire pushes you internally to want and crave, but at the same time wanting and cravings lead to suffering. No one saves us but ourselves. No one can and no one will. We alone must walk our path. He who controls others may be mighty, but he who has controlled himself is the mightiest. We teach that people will continue to suffer from diverse kinds of misunderstandings and even delusions as long as they remain ignorant of the world around them. On the contrary, a simple, effortless step to develop the mind, coupled with the desire to acquire wisdom through study, careful thinking, and deep meditation, will open your eyes to the truth and make you see things as they truly are. With that, you can overcome craving and defeat ignorance, the root cause of unhappiness. It is perhaps a norm for the average human to be greedy. Greed means the strong desire for more. That is, desire to make more money, enjoy more sex, have more pleasure, acquire more fame, among others. Unfortunately, these are some of the reasons we are very unhappy, because the fruits of greed are dishonesty, self-centeredness, possessiveness, exploitation, and callousness. Perhaps this desire to acquire, and in turn accumulate and consume, can bring some sort of temporary gratification, but in the long run, it will lead to hurt, suffering, and unhappiness. The point being, regardless of the wealth of material possessions the soul has, it remains discontented. No matter how we try to disassociate ourselves from suffering, it exists. In fact, our desire to alleviate suffering breeds further pain if we chase the symptoms and not the root cause. Desire, however, is one of the many things that makes us vital as creatures. One mistake that causes suffering is our delusion. The phantasm that we can get rid of basic and conventional human dissatisfaction by seeking more pleasure or getting more of what we desire will only bring more suffering. Moreover, these uncontrolled desires can become cataclysmic and bring forth unhealthy, destructive urges. We tend to make selfish choices after we have disregarded the essence of love, and do not care if hatred later ensues. At the end, our actions and thoughts leave us in sorrow, regrets, and suffering. This is because we have all but violated our goodwill in place of these dangerous urges. Selfishness, hatred, and the diverse forms of negativity thus result and will definitely harm our relationships and rob us of our goodwill, and at the end, leave us hurt, isolated, and unhappy. What or who do you love? What or who do you hate? What are the things that you like? This list defines the outer boundary of the things that you are attached to. These lusts for ephemeral things, cravings, ignorance, greed, delusion, hatred, and destructive urges are the root causes of pain, hurt, suffering, and unhappiness. And enlightenment equals what you are running from, divided by what you live for.\n"
          ]
        }
      ],
      "source": [
        "!pip install git+https://github.com/openai/whisper.git\n",
        "!pip install pytube\n",
        "# import the necessary packages\n",
        "import pytube as pt\n",
        "import whisper\n",
        "# download mp3 from youtube video (Indroductrion to Whisper: The speech recognition)\n",
        "# yt = pt.YouTube(\"https://www.youtube.com/watch?v=Bf6Z5bjlHcI\")\n",
        "yt = pt.YouTube(\"https://www.youtube.com/watch?v=q4Dmq2TKNq4\")\n",
        "stream = yt.streams.filter(only_audio=True)[0]\n",
        "stream.download(filename=\"audio.mp3\")\n",
        "# load the model\n",
        "model = whisper.load_model(\"medium\")\n",
        "# transcribe the audio file\n",
        "result = model.transcribe(\"audio.mp3\")\n",
        "# print the text extracted from the video\n",
        "print(result[\"text\"])"
      ]
    },
    {
      "cell_type": "code",
      "source": [
        "# https://medium.com/@lawrenceteixeira/openai-whisper-the-future-of-conversational-ai-b11bf0d146de"
      ],
      "metadata": {
        "id": "kZFvTHa4pQkQ"
      },
      "execution_count": null,
      "outputs": []
    }
  ]
}