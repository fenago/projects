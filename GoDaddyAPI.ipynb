{
  "nbformat": 4,
  "nbformat_minor": 0,
  "metadata": {
    "colab": {
      "provenance": []
    },
    "kernelspec": {
      "name": "python3",
      "display_name": "Python 3"
    },
    "language_info": {
      "name": "python"
    }
  },
  "cells": [
    {
      "cell_type": "code",
      "execution_count": null,
      "metadata": {
        "id": "3qkT0p02p5wH"
      },
      "outputs": [],
      "source": [
        "# https://developer.godaddy.com/keys"
      ]
    },
    {
      "cell_type": "code",
      "source": [
        "# Key: 9EVU5y4YDqT_Wb5SZQ4vsPFU92MDCHkEro\n",
        "# Secret: YUo89TcnRR4gi74r6Nnb1f"
      ],
      "metadata": {
        "id": "mDU4Dm4cp91D"
      },
      "execution_count": null,
      "outputs": []
    },
    {
      "cell_type": "code",
      "source": [
        "!pip install godaddypy"
      ],
      "metadata": {
        "colab": {
          "base_uri": "https://localhost:8080/"
        },
        "id": "9dNq3tQHqWs6",
        "outputId": "62801ad9-b6c1-4951-ccfa-1d0982c1d833"
      },
      "execution_count": 1,
      "outputs": [
        {
          "output_type": "stream",
          "name": "stdout",
          "text": [
            "Looking in indexes: https://pypi.org/simple, https://us-python.pkg.dev/colab-wheels/public/simple/\n",
            "Collecting godaddypy\n",
            "  Downloading GoDaddyPy-2.3.4-py2.py3-none-any.whl (7.8 kB)\n",
            "Requirement already satisfied: requests>=2.4 in /usr/local/lib/python3.7/dist-packages (from godaddypy) (2.23.0)\n",
            "Requirement already satisfied: idna<3,>=2.5 in /usr/local/lib/python3.7/dist-packages (from requests>=2.4->godaddypy) (2.10)\n",
            "Requirement already satisfied: certifi>=2017.4.17 in /usr/local/lib/python3.7/dist-packages (from requests>=2.4->godaddypy) (2022.9.24)\n",
            "Requirement already satisfied: urllib3!=1.25.0,!=1.25.1,<1.26,>=1.21.1 in /usr/local/lib/python3.7/dist-packages (from requests>=2.4->godaddypy) (1.24.3)\n",
            "Requirement already satisfied: chardet<4,>=3.0.2 in /usr/local/lib/python3.7/dist-packages (from requests>=2.4->godaddypy) (3.0.4)\n",
            "Installing collected packages: godaddypy\n",
            "Successfully installed godaddypy-2.3.4\n"
          ]
        }
      ]
    },
    {
      "cell_type": "code",
      "source": [
        "from godaddypy import Client, Account\n",
        "my_acct = Account(api_key='9EVU5y4YDqT_Wb5SZQ4vsPFU92MDCHkEro', api_secret='YUo89TcnRR4gi74r6Nnb1f')\n",
        "delegate_acct = Account(api_key='PUBLIC_KEY', api_secret='SECRET_KEY', delegate='DELEGATE_ID')\n",
        "client = Client(my_acct)\n",
        "delegate_client = Client(delegate_acct)"
      ],
      "metadata": {
        "id": "RTQGfNjfqc1w"
      },
      "execution_count": 2,
      "outputs": []
    },
    {
      "cell_type": "code",
      "source": [
        "client.get_domains()"
      ],
      "metadata": {
        "colab": {
          "base_uri": "https://localhost:8080/"
        },
        "id": "kUBdrrGZqpSZ",
        "outputId": "37a57b81-2f28-48be-a462-21ffffbbfb24"
      },
      "execution_count": 3,
      "outputs": [
        {
          "output_type": "execute_result",
          "data": {
            "text/plain": [
              "['8x4.net',\n",
              " 'adaptivelogistics.net',\n",
              " 'agiles.io',\n",
              " 'aiworkshop.net',\n",
              " 'aiworkshop.org',\n",
              " 'bigblocks.io',\n",
              " 'bigbooks.io',\n",
              " 'bigdatascience.io',\n",
              " 'blackparents.net',\n",
              " 'blockchaincerts.io',\n",
              " 'blueviz.net',\n",
              " 'bookstores.io',\n",
              " 'bpro.co',\n",
              " 'braincontrol.net',\n",
              " 'bxtlogistics.com',\n",
              " 'cassandra.tv',\n",
              " 'cassandradb.io',\n",
              " 'cei2.io',\n",
              " 'consultant.network',\n",
              " 'consultantnetwork.com',\n",
              " 'consultants.email',\n",
              " 'consultants.network',\n",
              " 'consultants.solutions',\n",
              " 'consultants.support',\n",
              " 'consultantsnetwork.co',\n",
              " 'consultantsnetwork.com',\n",
              " 'consultantsnetwork.me',\n",
              " 'consultantsnetwork.net',\n",
              " 'consultantsnetwork.us',\n",
              " 'consultantsnetworks.com',\n",
              " 'consultantsnetworks.net',\n",
              " 'consultantspublishing.com',\n",
              " 'consultantspublishing.net',\n",
              " 'courseware.io',\n",
              " 'coursewarefactory.com',\n",
              " 'cvsaas.com',\n",
              " 'dappbay.io',\n",
              " 'dappbay.net',\n",
              " 'dappbay.store',\n",
              " 'dataanalysts.co',\n",
              " 'dataanalytics.miami',\n",
              " 'dataanalyticsmadeeasy.com',\n",
              " 'datasciences.io',\n",
              " 'dconsultantsnetwork.com',\n",
              " 'deltawaves.net',\n",
              " 'dvartistry.com',\n",
              " 'e.vision',\n",
              " 'e5o.io',\n",
              " 'eigth.io',\n",
              " 'elev8ed.tv',\n",
              " 'emotiont.com',\n",
              " 'emotiont.info',\n",
              " 'emotiont.net',\n",
              " 'emotiont.org',\n",
              " 'emotiont.us',\n",
              " 'ernesto.ai',\n",
              " 'ernesto.biz',\n",
              " 'ernesto.co',\n",
              " 'ernesto.info',\n",
              " 'ernesto.institute',\n",
              " 'ernesto.me',\n",
              " 'ernesto.miami',\n",
              " 'ernesto.mobi',\n",
              " 'ernesto.net',\n",
              " 'ernesto.network',\n",
              " 'ernesto.solutions',\n",
              " 'ernesto.tech',\n",
              " 'ernesto.training',\n",
              " 'ernestolee.com',\n",
              " 'ernestolee.info',\n",
              " 'ernestolee.net',\n",
              " 'ernestolee.org',\n",
              " 'ernestotech.com',\n",
              " 'ernestox.com',\n",
              " 'ethereumtraining.net',\n",
              " 'fallbasket.com',\n",
              " 'fallbasket.info',\n",
              " 'fallbasket.net',\n",
              " 'fallbasket.org',\n",
              " 'fenago.com',\n",
              " 'fenago.io',\n",
              " 'fenago.net',\n",
              " 'fenago.org',\n",
              " 'forthekids.io',\n",
              " 'freesoil.io',\n",
              " 'freesoil.net',\n",
              " 'freesoil.org',\n",
              " 'freesoil.us',\n",
              " 'fusion-clouds.com',\n",
              " 'fusionclouds.biz',\n",
              " 'fusionclouds.co',\n",
              " 'fusionclouds.com',\n",
              " 'fusionclouds.mobi',\n",
              " 'fusionclouds.net',\n",
              " 'fusionclouds.org',\n",
              " 'fusionclouds.us',\n",
              " 'gammawaves.net',\n",
              " 'graphqlworkshop.net',\n",
              " 'graphqlworkshop.org',\n",
              " 'groundbiz.net']"
            ]
          },
          "metadata": {},
          "execution_count": 3
        }
      ]
    },
    {
      "cell_type": "code",
      "source": [
        "client.get_records('courseware.io', record_type='A')"
      ],
      "metadata": {
        "colab": {
          "base_uri": "https://localhost:8080/"
        },
        "id": "brBJXmlnq4Hq",
        "outputId": "e6cd4b42-c6a0-4920-8634-f7360ad7fea7"
      },
      "execution_count": 5,
      "outputs": [
        {
          "output_type": "execute_result",
          "data": {
            "text/plain": [
              "[{'data': '137.184.208.80', 'name': '@', 'ttl': 3600, 'type': 'A'},\n",
              " {'data': '159.223.155.179', 'name': 'intro-ml1', 'ttl': 600, 'type': 'A'},\n",
              " {'data': '159.223.155.210', 'name': 'intro-ml10', 'ttl': 600, 'type': 'A'},\n",
              " {'data': '137.184.215.26', 'name': 'intro-ml2', 'ttl': 600, 'type': 'A'},\n",
              " {'data': '208.68.39.21', 'name': 'intro-ml3', 'ttl': 600, 'type': 'A'},\n",
              " {'data': '159.223.119.75', 'name': 'intro-ml4', 'ttl': 600, 'type': 'A'},\n",
              " {'data': '159.223.157.168', 'name': 'intro-ml5', 'ttl': 600, 'type': 'A'},\n",
              " {'data': '159.223.111.174', 'name': 'intro-ml6', 'ttl': 600, 'type': 'A'},\n",
              " {'data': '159.223.158.65', 'name': 'intro-ml7', 'ttl': 600, 'type': 'A'},\n",
              " {'data': '159.223.162.224', 'name': 'intro-ml8', 'ttl': 600, 'type': 'A'},\n",
              " {'data': '159.223.153.28', 'name': 'intro-ml9', 'ttl': 600, 'type': 'A'},\n",
              " {'data': '167.99.150.15', 'name': 'kafka1', 'ttl': 600, 'type': 'A'},\n",
              " {'data': '134.209.68.103', 'name': 'kafka10', 'ttl': 600, 'type': 'A'},\n",
              " {'data': '157.230.83.145', 'name': 'kafka11', 'ttl': 600, 'type': 'A'},\n",
              " {'data': '134.209.72.205', 'name': 'kafka12', 'ttl': 600, 'type': 'A'},\n",
              " {'data': '157.230.235.101', 'name': 'kafka13', 'ttl': 600, 'type': 'A'},\n",
              " {'data': '134.209.74.119', 'name': 'kafka14', 'ttl': 600, 'type': 'A'},\n",
              " {'data': '134.209.68.4', 'name': 'kafka15', 'ttl': 600, 'type': 'A'},\n",
              " {'data': '134.209.76.126', 'name': 'kafka16', 'ttl': 600, 'type': 'A'},\n",
              " {'data': '134.209.74.86', 'name': 'kafka17', 'ttl': 600, 'type': 'A'},\n",
              " {'data': '134.209.74.105', 'name': 'kafka18', 'ttl': 600, 'type': 'A'},\n",
              " {'data': '134.209.74.109', 'name': 'kafka19', 'ttl': 600, 'type': 'A'},\n",
              " {'data': '157.230.232.167', 'name': 'kafka2', 'ttl': 600, 'type': 'A'},\n",
              " {'data': '134.209.74.81', 'name': 'kafka20', 'ttl': 600, 'type': 'A'},\n",
              " {'data': '159.203.182.169', 'name': 'kafka21', 'ttl': 600, 'type': 'A'},\n",
              " {'data': '142.93.1.107', 'name': 'kafka22', 'ttl': 600, 'type': 'A'},\n",
              " {'data': '134.209.72.193', 'name': 'kafka3', 'ttl': 600, 'type': 'A'},\n",
              " {'data': '134.209.72.47', 'name': 'kafka4', 'ttl': 600, 'type': 'A'},\n",
              " {'data': '134.209.72.173', 'name': 'kafka5', 'ttl': 600, 'type': 'A'},\n",
              " {'data': '134.209.72.243', 'name': 'kafka6', 'ttl': 600, 'type': 'A'},\n",
              " {'data': '134.209.68.243', 'name': 'kafka7', 'ttl': 600, 'type': 'A'},\n",
              " {'data': '134.209.68.126', 'name': 'kafka8', 'ttl': 600, 'type': 'A'},\n",
              " {'data': '134.209.68.52', 'name': 'kafka9', 'ttl': 600, 'type': 'A'},\n",
              " {'data': '167.172.128.141', 'name': 'optum1', 'ttl': 600, 'type': 'A'},\n",
              " {'data': '157.230.217.185', 'name': 'optum10', 'ttl': 600, 'type': 'A'},\n",
              " {'data': '157.230.213.2', 'name': 'optum11', 'ttl': 600, 'type': 'A'},\n",
              " {'data': '157.230.213.6', 'name': 'optum12', 'ttl': 600, 'type': 'A'},\n",
              " {'data': '157.230.223.54', 'name': 'optum2', 'ttl': 600, 'type': 'A'},\n",
              " {'data': '157.230.178.85', 'name': 'optum3', 'ttl': 600, 'type': 'A'},\n",
              " {'data': '157.230.217.8', 'name': 'optum4', 'ttl': 600, 'type': 'A'},\n",
              " {'data': '157.230.212.140', 'name': 'optum5', 'ttl': 600, 'type': 'A'},\n",
              " {'data': '157.230.217.4', 'name': 'optum6', 'ttl': 600, 'type': 'A'},\n",
              " {'data': '157.230.217.170', 'name': 'optum7', 'ttl': 600, 'type': 'A'},\n",
              " {'data': '157.230.217.13', 'name': 'optum8', 'ttl': 600, 'type': 'A'},\n",
              " {'data': '157.230.217.21', 'name': 'optum9', 'ttl': 600, 'type': 'A'},\n",
              " {'data': '167.99.230.194', 'name': 'plsql1', 'ttl': 600, 'type': 'A'},\n",
              " {'data': '157.230.214.135', 'name': 'sqlintro1', 'ttl': 600, 'type': 'A'},\n",
              " {'data': '157.230.222.90', 'name': 'sqlintro10', 'ttl': 600, 'type': 'A'},\n",
              " {'data': '159.223.167.22', 'name': 'sqlintro11', 'ttl': 600, 'type': 'A'},\n",
              " {'data': '146.190.78.127', 'name': 'sqlintro12', 'ttl': 600, 'type': 'A'},\n",
              " {'data': '146.190.68.162', 'name': 'sqlintro13', 'ttl': 600, 'type': 'A'},\n",
              " {'data': '146.190.66.56', 'name': 'sqlintro14', 'ttl': 600, 'type': 'A'},\n",
              " {'data': '157.230.214.164', 'name': 'sqlintro2', 'ttl': 600, 'type': 'A'},\n",
              " {'data': '157.230.209.14', 'name': 'sqlintro3', 'ttl': 600, 'type': 'A'},\n",
              " {'data': '157.230.214.166', 'name': 'sqlintro4', 'ttl': 600, 'type': 'A'},\n",
              " {'data': '157.230.222.34', 'name': 'sqlintro5', 'ttl': 600, 'type': 'A'},\n",
              " {'data': '157.230.214.251', 'name': 'sqlintro6', 'ttl': 600, 'type': 'A'},\n",
              " {'data': '157.230.222.17', 'name': 'sqlintro7', 'ttl': 600, 'type': 'A'},\n",
              " {'data': '157.230.209.48', 'name': 'sqlintro8', 'ttl': 600, 'type': 'A'},\n",
              " {'data': '157.230.209.45', 'name': 'sqlintro9', 'ttl': 600, 'type': 'A'},\n",
              " {'data': '157.230.55.25', 'name': 'testlab', 'ttl': 600, 'type': 'A'}]"
            ]
          },
          "metadata": {},
          "execution_count": 5
        }
      ]
    },
    {
      "cell_type": "code",
      "source": [
        "# client.update_ip('157.230.209.45', domains=['sqlintro19.courseware.io'])"
      ],
      "metadata": {
        "id": "k1FSmNg9rHo5"
      },
      "execution_count": null,
      "outputs": []
    },
    {
      "cell_type": "code",
      "source": [
        "client.get_records('courseware.io')"
      ],
      "metadata": {
        "colab": {
          "base_uri": "https://localhost:8080/"
        },
        "id": "1tzd6L9frbiI",
        "outputId": "6a9e93eb-13d4-4a34-c0a3-90e4321031f4"
      },
      "execution_count": 8,
      "outputs": [
        {
          "output_type": "execute_result",
          "data": {
            "text/plain": [
              "[{'data': '137.184.208.80', 'name': '@', 'ttl': 3600, 'type': 'A'},\n",
              " {'data': '159.223.155.179', 'name': 'intro-ml1', 'ttl': 600, 'type': 'A'},\n",
              " {'data': '159.223.155.210', 'name': 'intro-ml10', 'ttl': 600, 'type': 'A'},\n",
              " {'data': '137.184.215.26', 'name': 'intro-ml2', 'ttl': 600, 'type': 'A'},\n",
              " {'data': '208.68.39.21', 'name': 'intro-ml3', 'ttl': 600, 'type': 'A'},\n",
              " {'data': '159.223.119.75', 'name': 'intro-ml4', 'ttl': 600, 'type': 'A'},\n",
              " {'data': '159.223.157.168', 'name': 'intro-ml5', 'ttl': 600, 'type': 'A'},\n",
              " {'data': '159.223.111.174', 'name': 'intro-ml6', 'ttl': 600, 'type': 'A'},\n",
              " {'data': '159.223.158.65', 'name': 'intro-ml7', 'ttl': 600, 'type': 'A'},\n",
              " {'data': '159.223.162.224', 'name': 'intro-ml8', 'ttl': 600, 'type': 'A'},\n",
              " {'data': '159.223.153.28', 'name': 'intro-ml9', 'ttl': 600, 'type': 'A'},\n",
              " {'data': '167.99.150.15', 'name': 'kafka1', 'ttl': 600, 'type': 'A'},\n",
              " {'data': '134.209.68.103', 'name': 'kafka10', 'ttl': 600, 'type': 'A'},\n",
              " {'data': '157.230.83.145', 'name': 'kafka11', 'ttl': 600, 'type': 'A'},\n",
              " {'data': '134.209.72.205', 'name': 'kafka12', 'ttl': 600, 'type': 'A'},\n",
              " {'data': '157.230.235.101', 'name': 'kafka13', 'ttl': 600, 'type': 'A'},\n",
              " {'data': '134.209.74.119', 'name': 'kafka14', 'ttl': 600, 'type': 'A'},\n",
              " {'data': '134.209.68.4', 'name': 'kafka15', 'ttl': 600, 'type': 'A'},\n",
              " {'data': '134.209.76.126', 'name': 'kafka16', 'ttl': 600, 'type': 'A'},\n",
              " {'data': '134.209.74.86', 'name': 'kafka17', 'ttl': 600, 'type': 'A'},\n",
              " {'data': '134.209.74.105', 'name': 'kafka18', 'ttl': 600, 'type': 'A'},\n",
              " {'data': '134.209.74.109', 'name': 'kafka19', 'ttl': 600, 'type': 'A'},\n",
              " {'data': '157.230.232.167', 'name': 'kafka2', 'ttl': 600, 'type': 'A'},\n",
              " {'data': '134.209.74.81', 'name': 'kafka20', 'ttl': 600, 'type': 'A'},\n",
              " {'data': '159.203.182.169', 'name': 'kafka21', 'ttl': 600, 'type': 'A'},\n",
              " {'data': '142.93.1.107', 'name': 'kafka22', 'ttl': 600, 'type': 'A'},\n",
              " {'data': '134.209.72.193', 'name': 'kafka3', 'ttl': 600, 'type': 'A'},\n",
              " {'data': '134.209.72.47', 'name': 'kafka4', 'ttl': 600, 'type': 'A'},\n",
              " {'data': '134.209.72.173', 'name': 'kafka5', 'ttl': 600, 'type': 'A'},\n",
              " {'data': '134.209.72.243', 'name': 'kafka6', 'ttl': 600, 'type': 'A'},\n",
              " {'data': '134.209.68.243', 'name': 'kafka7', 'ttl': 600, 'type': 'A'},\n",
              " {'data': '134.209.68.126', 'name': 'kafka8', 'ttl': 600, 'type': 'A'},\n",
              " {'data': '134.209.68.52', 'name': 'kafka9', 'ttl': 600, 'type': 'A'},\n",
              " {'data': '167.172.128.141', 'name': 'optum1', 'ttl': 600, 'type': 'A'},\n",
              " {'data': '157.230.217.185', 'name': 'optum10', 'ttl': 600, 'type': 'A'},\n",
              " {'data': '157.230.213.2', 'name': 'optum11', 'ttl': 600, 'type': 'A'},\n",
              " {'data': '157.230.213.6', 'name': 'optum12', 'ttl': 600, 'type': 'A'},\n",
              " {'data': '157.230.223.54', 'name': 'optum2', 'ttl': 600, 'type': 'A'},\n",
              " {'data': '157.230.178.85', 'name': 'optum3', 'ttl': 600, 'type': 'A'},\n",
              " {'data': '157.230.217.8', 'name': 'optum4', 'ttl': 600, 'type': 'A'},\n",
              " {'data': '157.230.212.140', 'name': 'optum5', 'ttl': 600, 'type': 'A'},\n",
              " {'data': '157.230.217.4', 'name': 'optum6', 'ttl': 600, 'type': 'A'},\n",
              " {'data': '157.230.217.170', 'name': 'optum7', 'ttl': 600, 'type': 'A'},\n",
              " {'data': '157.230.217.13', 'name': 'optum8', 'ttl': 600, 'type': 'A'},\n",
              " {'data': '157.230.217.21', 'name': 'optum9', 'ttl': 600, 'type': 'A'},\n",
              " {'data': '167.99.230.194', 'name': 'plsql1', 'ttl': 600, 'type': 'A'},\n",
              " {'data': '157.230.214.135', 'name': 'sqlintro1', 'ttl': 600, 'type': 'A'},\n",
              " {'data': '157.230.222.90', 'name': 'sqlintro10', 'ttl': 600, 'type': 'A'},\n",
              " {'data': '159.223.167.22', 'name': 'sqlintro11', 'ttl': 600, 'type': 'A'},\n",
              " {'data': '146.190.78.127', 'name': 'sqlintro12', 'ttl': 600, 'type': 'A'},\n",
              " {'data': '146.190.68.162', 'name': 'sqlintro13', 'ttl': 600, 'type': 'A'},\n",
              " {'data': '146.190.66.56', 'name': 'sqlintro14', 'ttl': 600, 'type': 'A'},\n",
              " {'data': '157.230.214.164', 'name': 'sqlintro2', 'ttl': 600, 'type': 'A'},\n",
              " {'data': '157.230.209.14', 'name': 'sqlintro3', 'ttl': 600, 'type': 'A'},\n",
              " {'data': '157.230.214.166', 'name': 'sqlintro4', 'ttl': 600, 'type': 'A'},\n",
              " {'data': '157.230.222.34', 'name': 'sqlintro5', 'ttl': 600, 'type': 'A'},\n",
              " {'data': '157.230.214.251', 'name': 'sqlintro6', 'ttl': 600, 'type': 'A'},\n",
              " {'data': '157.230.222.17', 'name': 'sqlintro7', 'ttl': 600, 'type': 'A'},\n",
              " {'data': '157.230.209.48', 'name': 'sqlintro8', 'ttl': 600, 'type': 'A'},\n",
              " {'data': '157.230.209.45', 'name': 'sqlintro9', 'ttl': 600, 'type': 'A'},\n",
              " {'data': '157.230.55.25', 'name': 'testlab', 'ttl': 600, 'type': 'A'},\n",
              " {'data': 'ns55.domaincontrol.com', 'name': '@', 'ttl': 3600, 'type': 'NS'},\n",
              " {'data': 'ns56.domaincontrol.com', 'name': '@', 'ttl': 3600, 'type': 'NS'},\n",
              " {'data': 'links.clickfunnels.email',\n",
              "  'name': '12328491.www.courseware.io',\n",
              "  'ttl': 3600,\n",
              "  'type': 'CNAME'},\n",
              " {'data': 'links.clickfunnels.email',\n",
              "  'name': 'cflinks.www.courseware.io',\n",
              "  'ttl': 3600,\n",
              "  'type': 'CNAME'},\n",
              " {'data': 'mx.clickfunnels.email',\n",
              "  'name': 'cfmail.www.courseware.io',\n",
              "  'ttl': 3600,\n",
              "  'type': 'CNAME'},\n",
              " {'data': 'target.clickfunnels.com',\n",
              "  'name': 'www',\n",
              "  'ttl': 3600,\n",
              "  'type': 'CNAME'},\n",
              " {'data': '_domainconnect.gd.domaincontrol.com',\n",
              "  'name': '_domainconnect',\n",
              "  'ttl': 3600,\n",
              "  'type': 'CNAME'},\n",
              " {'data': 'k=rsa; t=s; p=MIGfMA0GCSqGSIb3DQEBAQUAA4GNADCBiQKBgQC9wypr9lymcmBGUZbke5tkaoLa1Z5D/05E19mmt7nszkhDFiyhzZ9OXIIajeMH5nVDZNacxR0hfj0eVnFKN9gPFEB+MfEhDJZDXK5+dFTeIps+HqnWr/7eQeRbOVP6Zp5I83qzTc/HHa23IWFXsG6rkxSN9Lsj1TnT4V0VlAmgywIDAQAB',\n",
              "  'name': 'm1._domainkey.www.courseware.io',\n",
              "  'ttl': 3600,\n",
              "  'type': 'TXT'}]"
            ]
          },
          "metadata": {},
          "execution_count": 8
        }
      ]
    },
    {
      "cell_type": "code",
      "source": [
        "client.get_records('courseware.io', record_type='A', name='@')"
      ],
      "metadata": {
        "colab": {
          "base_uri": "https://localhost:8080/"
        },
        "id": "cagGdtOjrmHA",
        "outputId": "b081d723-f0f1-4b1c-d219-1ded1a58591b"
      },
      "execution_count": 10,
      "outputs": [
        {
          "output_type": "execute_result",
          "data": {
            "text/plain": [
              "[{'data': '137.184.208.80', 'name': '@', 'ttl': 3600, 'type': 'A'}]"
            ]
          },
          "metadata": {},
          "execution_count": 10
        }
      ]
    },
    {
      "cell_type": "code",
      "source": [
        "# client.update_record_ip('3.3.3.3', 'domain1.example', 'dynamic', 'A')"
      ],
      "metadata": {
        "id": "gIE7-EBCsHPT"
      },
      "execution_count": null,
      "outputs": []
    },
    {
      "cell_type": "code",
      "source": [
        "client.add_record('courseware.io', {'data':'157.230.214.135','name':'drlee','ttl':3600, 'type':'A'})"
      ],
      "metadata": {
        "colab": {
          "base_uri": "https://localhost:8080/"
        },
        "id": "mnQSToaTsLSn",
        "outputId": "bf9f4bb5-e310-4d42-ba91-554845484968"
      },
      "execution_count": 14,
      "outputs": [
        {
          "output_type": "execute_result",
          "data": {
            "text/plain": [
              "True"
            ]
          },
          "metadata": {},
          "execution_count": 14
        }
      ]
    },
    {
      "cell_type": "code",
      "source": [
        "client.delete_records('courseware.io', name='drlee')"
      ],
      "metadata": {
        "colab": {
          "base_uri": "https://localhost:8080/"
        },
        "id": "pQdllRm9sgiO",
        "outputId": "c3fdb3ea-63c6-47ea-b843-9cffd0f237ec"
      },
      "execution_count": 15,
      "outputs": [
        {
          "output_type": "execute_result",
          "data": {
            "text/plain": [
              "True"
            ]
          },
          "metadata": {},
          "execution_count": 15
        }
      ]
    }
  ]
}